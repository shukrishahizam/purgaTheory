{
 "cells": [
  {
   "cell_type": "code",
   "execution_count": 1,
   "metadata": {},
   "outputs": [],
   "source": [
    "from IPython.display import Image\n",
    "import networkx as nx\n",
    "from networkx.readwrite import json_graph\n",
    "from networkx.drawing.nx_agraph import graphviz_layout, to_agraph\n",
    "# import matplotlib.pyplot as plt\n",
    "# import pygraphviz as pgv\n",
    "\n",
    "import json"
   ]
  },
  {
   "cell_type": "code",
   "execution_count": 2,
   "metadata": {},
   "outputs": [],
   "source": [
    "file = \"./json_data.json\"\n",
    "\n",
    "with open (file, \"r\") as json_file:\n",
    "    data = json.load(json_file)\n",
    "\n",
    "G = json_graph.node_link_graph(data, directed=True, multigraph=True)"
   ]
  },
  {
   "cell_type": "code",
   "execution_count": 3,
   "metadata": {},
   "outputs": [
    {
     "ename": "KeyError",
     "evalue": "'name'",
     "output_type": "error",
     "traceback": [
      "\u001b[0;31m---------------------------------------------------------------------------\u001b[0m",
      "\u001b[0;31mKeyError\u001b[0m                                  Traceback (most recent call last)",
      "\u001b[1;32m/Users/shukriahmadshahizam/purgaTheory/nXtest.ipynb Cell 3'\u001b[0m in \u001b[0;36m<cell line: 1>\u001b[0;34m()\u001b[0m\n\u001b[1;32m      <a href='vscode-notebook-cell:/Users/shukriahmadshahizam/purgaTheory/nXtest.ipynb#ch0000002?line=0'>1</a>\u001b[0m \u001b[39mfor\u001b[39;00m e \u001b[39min\u001b[39;00m G\u001b[39m.\u001b[39mnodes:\n\u001b[0;32m----> <a href='vscode-notebook-cell:/Users/shukriahmadshahizam/purgaTheory/nXtest.ipynb#ch0000002?line=1'>2</a>\u001b[0m     \u001b[39mprint\u001b[39m(G\u001b[39m.\u001b[39;49mnodes[e][\u001b[39m'\u001b[39;49m\u001b[39mname\u001b[39;49m\u001b[39m'\u001b[39;49m])\n",
      "\u001b[0;31mKeyError\u001b[0m: 'name'"
     ]
    }
   ],
   "source": [
    "for e in G.nodes:\n",
    "    print(G.nodes[e]['name'])"
   ]
  },
  {
   "cell_type": "code",
   "execution_count": null,
   "metadata": {},
   "outputs": [
    {
     "data": {
      "image/png": "[encoded data removed]",
      "text/plain": [
       "<IPython.core.display.Image object>"
      ]
     },
     "execution_count": 4,
     "metadata": {},
     "output_type": "execute_result"
    }
   ],
   "source": [
    "A = to_agraph(G)\n",
    "A.layout('dot')\n",
    "A.draw('test.png')\n",
    "Image('test.png')"
   ]
  },
  {
   "cell_type": "markdown",
   "metadata": {},
   "source": [
    "options = {\n",
    "    \"font_size\": 12,\n",
    "    \"node_size\": 500,\n",
    "    \"node_color\": \"white\",\n",
    "    \"edgecolors\": \"black\",\n",
    "    \"linewidths\": 3,\n",
    "    \"width\": 1,\n",
    "    \"min_source_margin\": 20, \n",
    "}\n",
    "\n",
    "pos_dict =  {1: (0, -.5), 2: (-1, 1), 3: (1, 1), 4: (0, 1)}\n",
    "\n",
    "nx.draw_networkx(DG, pos_dict, **options)\n",
    "\n",
    "ax = plt.gca()\n",
    "ax.margins(0.20)\n",
    "ax.set_facecolor(\"white\")\n",
    "plt.show()\n"
   ]
  },
  {
   "cell_type": "markdown",
   "metadata": {},
   "source": [
    "pip install --global-option=build_ext \\ \n",
    "            --global-option=\"-L/opt/lib/mygviz/\" \\\n",
    "            --global-option=\"-R/opt/lib/mygviz/\" \\ \n",
    "            pygraphviz"
   ]
  }
 ],
 "metadata": {
  "interpreter": {
   "hash": "45181ff03eeacccc3fc5f362e994507839f1020bceeea6cdd18bfedf069e83e4"
  },
  "kernelspec": {
   "display_name": "Python 3.10.4 ('pT')",
   "language": "python",
   "name": "python3"
  },
  "language_info": {
   "codemirror_mode": {
    "name": "ipython",
    "version": 3
   },
   "file_extension": ".py",
   "mimetype": "text/x-python",
   "name": "python",
   "nbconvert_exporter": "python",
   "pygments_lexer": "ipython3",
   "version": "3.10.4"
  },
  "orig_nbformat": 4
 },
 "nbformat": 4,
 "nbformat_minor": 2
}
