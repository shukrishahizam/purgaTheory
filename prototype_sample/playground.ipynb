{
 "cells": [
  {
   "cell_type": "code",
   "execution_count": 14,
   "metadata": {},
   "outputs": [],
   "source": [
    "import networkx as nx\n",
    "import pygraphviz as pgv\n",
    "from networkx.readwrite import json_graph\n",
    "from networkx.drawing.nx_agraph import to_agraph\n",
    "import json"
   ]
  },
  {
   "cell_type": "code",
   "execution_count": 15,
   "metadata": {},
   "outputs": [],
   "source": [
    "# Import data from json and convert into nx graph\n",
    "\n",
    "file = \"./json_data.json\"\n",
    "\n",
    "with open (file, \"r\") as json_file:\n",
    "    data = json.load(json_file)\n",
    "\n",
    "G = json_graph.node_link_graph(data, directed=True, multigraph=True)"
   ]
  },
  {
   "cell_type": "code",
   "execution_count": 16,
   "metadata": {},
   "outputs": [
    {
     "name": "stdout",
     "output_type": "stream",
     "text": [
      "digraph \"\" {\n",
      "\tnode [label=\"\\N\"];\n",
      "\t1\t[label=\"Belmont Park\"];\n",
      "\t3\t[label=LBSF];\n",
      "\t1 -> 3\t[key=0,\n",
      "\t\tinstrument=transaction,\n",
      "\t\tlabel=\"sells protection against securities for\"];\n",
      "\t4\t[label=\"Dante Finance\"];\n",
      "\t1 -> 4\t[key=0,\n",
      "\t\tinstrument=Notes,\n",
      "\t\tlabel=\"subscriber of notes from\"];\n",
      "\t2\t[label=\"BNY Corporate Trustee\"];\n",
      "\t2 -> 4\t[key=0,\n",
      "\t\tinstrument=PTD,\n",
      "\t\tlabel=\"custodian of securities for\"];\n",
      "\t3 -> 1\t[key=0,\n",
      "\t\tinstrument=transaction,\n",
      "\t\tlabel=\"pays notes + prem to\"];\n",
      "\t3 -> 4\t[key=0,\n",
      "\t\tinstrument=\"ISDA MA\",\n",
      "\t\tlabel=\"pays proceeds of securities to\"];\n",
      "\t4 -> 1\t[key=0,\n",
      "\t\tinstrument=Notes,\n",
      "\t\tlabel=\"pays fixed coupon to\"];\n",
      "\t4 -> 2\t[key=0,\n",
      "\t\tinstrument=PTD,\n",
      "\t\tlabel=\"receives proceeds of securities from\"];\n",
      "\t4 -> 3\t[key=0,\n",
      "\t\tinstrument=\"ISDA MA\",\n",
      "\t\tlabel=\"pays notes' dues less CE value to\"];\n",
      "}\n",
      "\n"
     ]
    }
   ],
   "source": [
    "# Reduce nx graph into AGraph\n",
    "\n",
    "A = to_agraph(G)\n",
    "print(A)"
   ]
  },
  {
   "cell_type": "code",
   "execution_count": 17,
   "metadata": {},
   "outputs": [],
   "source": [
    "# A.layout('circo')\n",
    "A.draw('test.png', prog='dot')"
   ]
  }
 ],
 "metadata": {
  "interpreter": {
   "hash": "45181ff03eeacccc3fc5f362e994507839f1020bceeea6cdd18bfedf069e83e4"
  },
  "kernelspec": {
   "display_name": "Python 3.10.4 ('pT')",
   "language": "python",
   "name": "python3"
  },
  "language_info": {
   "codemirror_mode": {
    "name": "ipython",
    "version": 3
   },
   "file_extension": ".py",
   "mimetype": "text/x-python",
   "name": "python",
   "nbconvert_exporter": "python",
   "pygments_lexer": "ipython3",
   "version": "3.10.4"
  },
  "orig_nbformat": 4
 },
 "nbformat": 4,
 "nbformat_minor": 2
}
